{
  "nbformat": 4,
  "nbformat_minor": 0,
  "metadata": {
    "colab": {
      "provenance": [],
      "authorship_tag": "ABX9TyMI+m12heIVFjFjhjePbjkz",
      "include_colab_link": true
    },
    "kernelspec": {
      "name": "python3",
      "display_name": "Python 3"
    },
    "language_info": {
      "name": "python"
    }
  },
  "cells": [
    {
      "cell_type": "markdown",
      "metadata": {
        "id": "view-in-github",
        "colab_type": "text"
      },
      "source": [
        "<a href=\"https://colab.research.google.com/github/sharavana07/ACE_Hack/blob/main/binomial_option_distribution.ipynb\" target=\"_parent\"><img src=\"https://colab.research.google.com/assets/colab-badge.svg\" alt=\"Open In Colab\"/></a>"
      ]
    },
    {
      "cell_type": "code",
      "execution_count": 1,
      "metadata": {
        "colab": {
          "base_uri": "https://localhost:8080/"
        },
        "id": "9CT2167LwYpL",
        "outputId": "84b3258f-c4f7-46bb-d94b-b6a9d24278f0"
      },
      "outputs": [
        {
          "output_type": "stream",
          "name": "stdout",
          "text": [
            "📈 Fair Price of Call Option : ₹12.59\n",
            "📉 Fair Price of Put Option  : ₹4.91\n"
          ]
        }
      ],
      "source": [
        "# --- Binomial Option Pricing Model ---\n",
        "# Author: Sharavana Ragav S | Reference Implementation\n",
        "\n",
        "import math\n",
        "\n",
        "def binomial_option_pricing(S0, K, T, r, sigma, n, option_type='call'):\n",
        "    \"\"\"\n",
        "    S0 : Current stock price\n",
        "    K : Strike price\n",
        "    T : Time to maturity (in years)\n",
        "    r : Risk-free interest rate\n",
        "    sigma : Volatility of underlying\n",
        "    n : Number of steps\n",
        "    option_type : 'call' or 'put'\n",
        "    \"\"\"\n",
        "\n",
        "    # Step size\n",
        "    dt = T / n\n",
        "    # Up and Down factors\n",
        "    u = math.exp(sigma * math.sqrt(dt))\n",
        "    d = 1 / u\n",
        "    # Risk-neutral probability\n",
        "    p = (math.exp(r * dt) - d) / (u - d)\n",
        "    # Discount factor\n",
        "    disc = math.exp(-r * dt)\n",
        "\n",
        "    # Generate terminal stock prices\n",
        "    ST = [S0 * (u ** j) * (d ** (n - j)) for j in range(n + 1)]\n",
        "\n",
        "    # Compute option payoff at maturity\n",
        "    if option_type == 'call':\n",
        "        payoff = [max(s - K, 0) for s in ST]\n",
        "    else:\n",
        "        payoff = [max(K - s, 0) for s in ST]\n",
        "\n",
        "    # Backward induction\n",
        "    for i in range(n - 1, -1, -1):\n",
        "        for j in range(i + 1):\n",
        "            payoff[j] = disc * (p * payoff[j + 1] + (1 - p) * payoff[j])\n",
        "\n",
        "    return payoff[0]\n",
        "\n",
        "\n",
        "# Example parameters\n",
        "S0 = 100      # Current stock price\n",
        "K = 100       # Strike price\n",
        "T = 1         # 1 year\n",
        "r = 0.08      # 8% risk-free rate\n",
        "sigma = 0.2   # 20% volatility\n",
        "n = 3         # 3-step binomial tree\n",
        "\n",
        "call_price = binomial_option_pricing(S0, K, T, r, sigma, n, option_type='call')\n",
        "put_price = binomial_option_pricing(S0, K, T, r, sigma, n, option_type='put')\n",
        "\n",
        "print(f\"📈 Fair Price of Call Option : ₹{call_price:.2f}\")\n",
        "print(f\"📉 Fair Price of Put Option  : ₹{put_price:.2f}\")\n"
      ]
    },
    {
      "cell_type": "code",
      "source": [],
      "metadata": {
        "id": "UyCgsxxywdZG"
      },
      "execution_count": null,
      "outputs": []
    }
  ]
}