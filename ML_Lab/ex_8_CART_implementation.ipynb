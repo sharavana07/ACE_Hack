{
  "nbformat": 4,
  "nbformat_minor": 0,
  "metadata": {
    "colab": {
      "provenance": [],
      "authorship_tag": "ABX9TyPqUFCd80aDy/HwWMXQKMOo",
      "include_colab_link": true
    },
    "kernelspec": {
      "name": "python3",
      "display_name": "Python 3"
    },
    "language_info": {
      "name": "python"
    }
  },
  "cells": [
    {
      "cell_type": "markdown",
      "metadata": {
        "id": "view-in-github",
        "colab_type": "text"
      },
      "source": [
        "<a href=\"https://colab.research.google.com/github/sharavana07/ACE_Hack/blob/main/ex_8_CART_implementation.ipynb\" target=\"_parent\"><img src=\"https://colab.research.google.com/assets/colab-badge.svg\" alt=\"Open In Colab\"/></a>"
      ]
    },
    {
      "cell_type": "code",
      "source": [
        "import numpy as np\n",
        "from sklearn.datasets import load_iris\n",
        "from sklearn.model_selection import train_test_split\n",
        "from sklearn.metrics import accuracy_score\n",
        "from collections import Counter\n",
        "\n",
        "# Function to calculate Gini Impurity\n",
        "def gini_impurity(labels):\n",
        "    classes, counts = np.unique(labels, return_counts=True)\n",
        "    impurity = 1 - sum((count/len(labels))**2 for count in counts)\n",
        "    return impurity\n",
        "\n",
        "# Function to split dataset\n",
        "def split_dataset(data, labels, feature_index, threshold):\n",
        "    left_mask = data[:, feature_index] <= threshold\n",
        "    right_mask = ~left_mask\n",
        "    return data[left_mask], labels[left_mask], data[right_mask], labels[right_mask]\n",
        "\n",
        "# Function to find the best split\n",
        "def best_split(data, labels):\n",
        "    best_gini, best_feature, best_threshold = float('inf'), None, None\n",
        "    num_samples, num_features = data.shape\n",
        "\n",
        "    for feature in range(num_features):\n",
        "        thresholds = np.unique(data[:, feature])\n",
        "        for threshold in thresholds:\n",
        "            left_data, left_labels, right_data, right_labels = split_dataset(data, labels, feature, threshold)\n",
        "            if len(left_labels) == 0 or len(right_labels) == 0:\n",
        "                continue\n",
        "            gini = (len(left_labels) / len(labels)) * gini_impurity(left_labels) + (len(right_labels) / len(labels)) * gini_impurity(right_labels)\n",
        "            if gini < best_gini:\n",
        "                best_gini, best_feature, best_threshold = gini, feature, threshold\n",
        "    return best_feature, best_threshold\n",
        "\n",
        "# Decision Tree node class\n",
        "class TreeNode:\n",
        "    def __init__(self, feature=None, threshold=None, left=None, right=None, value=None):\n",
        "        self.feature = feature\n",
        "        self.threshold = threshold\n",
        "        self.left = left\n",
        "        self.right = right\n",
        "        self.value = value\n",
        "\n",
        "# Recursive function to build the decision tree\n",
        "def build_tree(data, labels, depth=0, max_depth=5):\n",
        "    if len(set(labels)) == 1:\n",
        "        return TreeNode(value=labels[0])\n",
        "\n",
        "    if depth >= max_depth:\n",
        "        majority_class = Counter(labels).most_common(1)[0][0]\n",
        "        return TreeNode(value=majority_class)\n",
        "\n",
        "    feature, threshold = best_split(data, labels)\n",
        "    if feature is None:\n",
        "        majority_class = Counter(labels).most_common(1)[0][0]\n",
        "        return TreeNode(value=majority_class)\n",
        "\n",
        "    left_data, left_labels, right_data, right_labels = split_dataset(data, labels, feature, threshold)\n",
        "    left_child = build_tree(left_data, left_labels, depth + 1, max_depth)\n",
        "    right_child = build_tree(right_data, right_labels, depth + 1, max_depth)\n",
        "    return TreeNode(feature, threshold, left_child, right_child)\n",
        "\n",
        "# Function to predict using the decision tree\n",
        "def predict_single(tree, sample):\n",
        "    if tree.value is not None:\n",
        "        return tree.value\n",
        "    feature_value = sample[tree.feature]\n",
        "    if feature_value <= tree.threshold:\n",
        "        return predict_single(tree.left, sample)\n",
        "    else:\n",
        "        return predict_single(tree.right, sample)\n",
        "\n",
        "def predict(tree, data):\n",
        "    return np.array([predict_single(tree, sample) for sample in data])\n"
      ],
      "metadata": {
        "id": "-wPUlaRGRfhl"
      },
      "execution_count": 1,
      "outputs": []
    },
    {
      "cell_type": "code",
      "execution_count": 2,
      "metadata": {
        "colab": {
          "base_uri": "https://localhost:8080/"
        },
        "id": "RbTTISJsRakz",
        "outputId": "556985f3-e4db-4f56-d47b-31b2111c40f4"
      },
      "outputs": [
        {
          "output_type": "stream",
          "name": "stdout",
          "text": [
            "Accuracy of the CART model: 0.9555555555555556\n"
          ]
        }
      ],
      "source": [
        "\n",
        "# Load Iris dataset\n",
        "iris = load_iris()\n",
        "X, y = iris.data, iris.target\n",
        "X_train, X_test, y_train, y_test = train_test_split(X, y, test_size=0.3, random_state=42)\n",
        "\n",
        "# Build the CART model\n",
        "cart_tree = build_tree(X_train, y_train, max_depth=5)\n",
        "\n",
        "# Predict and calculate accuracy\n",
        "y_pred = predict(cart_tree, X_test)\n",
        "accuracy = accuracy_score(y_test, y_pred)\n",
        "\n",
        "print(\"Accuracy of the CART model:\", accuracy)\n"
      ]
    },
    {
      "cell_type": "code",
      "source": [],
      "metadata": {
        "id": "nE7vsaNCRkzz"
      },
      "execution_count": null,
      "outputs": []
    }
  ]
}