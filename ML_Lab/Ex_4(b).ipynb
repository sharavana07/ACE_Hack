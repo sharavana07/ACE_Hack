{
  "cells": [
    {
      "cell_type": "markdown",
      "metadata": {
        "colab_type": "text",
        "id": "view-in-github"
      },
      "source": [
        "<a href=\"https://colab.research.google.com/github/sharavana07/ACE_Hack/blob/main/Ex_4(b).ipynb\" target=\"_parent\"><img src=\"https://colab.research.google.com/assets/colab-badge.svg\" alt=\"Open In Colab\"/></a>"
      ]
    },
    {
      "cell_type": "code",
      "execution_count": 1,
      "metadata": {
        "colab": {
          "base_uri": "https://localhost:8080/",
          "height": 1000
        },
        "id": "QwclSWz3Bbdz",
        "outputId": "e6f44d76-bfd6-46d2-aa79-101ba2cdaae4"
      },
      "outputs": [
        {
          "ename": "ModuleNotFoundError",
          "evalue": "No module named 'matplotlib'",
          "output_type": "error",
          "traceback": [
            "\u001b[31m---------------------------------------------------------------------------\u001b[39m",
            "\u001b[31mModuleNotFoundError\u001b[39m                       Traceback (most recent call last)",
            "\u001b[36mCell\u001b[39m\u001b[36m \u001b[39m\u001b[32mIn[1]\u001b[39m\u001b[32m, line 10\u001b[39m\n\u001b[32m      8\u001b[39m \u001b[38;5;28;01mimport\u001b[39;00m\u001b[38;5;250m \u001b[39m\u001b[34;01mpandas\u001b[39;00m\u001b[38;5;250m \u001b[39m\u001b[38;5;28;01mas\u001b[39;00m\u001b[38;5;250m \u001b[39m\u001b[34;01mpd\u001b[39;00m\n\u001b[32m      9\u001b[39m \u001b[38;5;28;01mimport\u001b[39;00m\u001b[38;5;250m \u001b[39m\u001b[34;01mnumpy\u001b[39;00m\u001b[38;5;250m \u001b[39m\u001b[38;5;28;01mas\u001b[39;00m\u001b[38;5;250m \u001b[39m\u001b[34;01mnp\u001b[39;00m\n\u001b[32m---> \u001b[39m\u001b[32m10\u001b[39m \u001b[38;5;28;01mimport\u001b[39;00m\u001b[38;5;250m \u001b[39m\u001b[34;01mmatplotlib\u001b[39;00m\u001b[34;01m.\u001b[39;00m\u001b[34;01mpyplot\u001b[39;00m\u001b[38;5;250m \u001b[39m\u001b[38;5;28;01mas\u001b[39;00m\u001b[38;5;250m \u001b[39m\u001b[34;01mplt\u001b[39;00m\n\u001b[32m     11\u001b[39m \u001b[38;5;28;01mimport\u001b[39;00m\u001b[38;5;250m \u001b[39m\u001b[34;01mseaborn\u001b[39;00m\u001b[38;5;250m \u001b[39m\u001b[38;5;28;01mas\u001b[39;00m\u001b[38;5;250m \u001b[39m\u001b[34;01msns\u001b[39;00m\n\u001b[32m     12\u001b[39m \u001b[38;5;28;01mfrom\u001b[39;00m\u001b[38;5;250m \u001b[39m\u001b[34;01msklearn\u001b[39;00m\u001b[34;01m.\u001b[39;00m\u001b[34;01mmodel_selection\u001b[39;00m\u001b[38;5;250m \u001b[39m\u001b[38;5;28;01mimport\u001b[39;00m train_test_split\n",
            "\u001b[31mModuleNotFoundError\u001b[39m: No module named 'matplotlib'"
          ]
        }
      ],
      "source": [
        "# ------------------------------------------------------------\n",
        "# EXPERIMENT 4(b)\n",
        "# Title: Implement Linear Regression to Perform Prediction\n",
        "# Dataset: winequality-red.csv\n",
        "# ------------------------------------------------------------\n",
        "\n",
        "# Import necessary libraries\n",
        "import pandas as pd\n",
        "import numpy as np\n",
        "import matplotlib.pyplot as plt\n",
        "import seaborn as sns\n",
        "from sklearn.model_selection import train_test_split\n",
        "from sklearn.linear_model import LinearRegression\n",
        "from sklearn.metrics import mean_squared_error, r2_score\n",
        "\n",
        "# ------------------------------------------------------------\n",
        "# Step 1: Load the dataset\n",
        "# ------------------------------------------------------------\n",
        "from google.colab import drive\n",
        "drive.mount('/content/drive')\n",
        "df = pd.read_csv('/content/drive/MyDrive/Colab Notebooks/winequality-red.csv')\n",
        "# ------------------------------------------------------------\n",
        "# Step 2: Basic EDA (Exploratory Data Analysis)\n",
        "# ------------------------------------------------------------\n",
        "print(\"First few rows of the dataset:\")\n",
        "print(df.head())\n",
        "\n",
        "print(\"\\nSummary statistics:\")\n",
        "print(df.describe())\n",
        "\n",
        "print(\"\\nMissing values:\")\n",
        "print(df.isnull().sum())\n",
        "\n",
        "print(\"\\nData types:\")\n",
        "print(df.dtypes)\n",
        "\n",
        "# ------------------------------------------------------------\n",
        "# Step 3: Visualization\n",
        "# ------------------------------------------------------------\n",
        "\n",
        "# Histograms for all features\n",
        "df.hist(figsize=(12, 10), bins=20, edgecolor='black')\n",
        "plt.suptitle('Histogram of Features', fontsize=14)\n",
        "plt.show()\n",
        "\n",
        "# Pairplot for visual correlation among attributes\n",
        "sns.pairplot(df)\n",
        "plt.show()\n",
        "\n",
        "# ------------------------------------------------------------\n",
        "# Step 4: Define Features and Target\n",
        "# ------------------------------------------------------------\n",
        "X = df.drop('quality', axis=1)  # Independent variables\n",
        "y = df['quality']               # Dependent variable (target)\n",
        "\n",
        "# ------------------------------------------------------------\n",
        "# Step 5: Train-Test Split\n",
        "# ------------------------------------------------------------\n",
        "X_train, X_test, y_train, y_test = train_test_split(\n",
        "    X, y, test_size=0.2, random_state=42\n",
        ")\n",
        "\n",
        "# ------------------------------------------------------------\n",
        "# Step 6: Model Creation and Training\n",
        "# ------------------------------------------------------------\n",
        "model = LinearRegression()\n",
        "model.fit(X_train, y_train)\n",
        "\n",
        "# ------------------------------------------------------------\n",
        "# Step 7: Prediction and Evaluation\n",
        "# ------------------------------------------------------------\n",
        "y_pred = model.predict(X_test)\n",
        "\n",
        "# Compute performance metrics\n",
        "mse = mean_squared_error(y_test, y_pred)\n",
        "r2 = r2_score(y_test, y_pred)\n",
        "\n",
        "print(f\"\\nMean Squared Error (MSE): {mse:.4f}\")\n",
        "print(f\"R-squared (R²): {r2:.4f}\")\n",
        "\n",
        "# ------------------------------------------------------------\n",
        "# Step 8: Visualization – Alcohol vs Quality\n",
        "# ------------------------------------------------------------\n",
        "feature = 'alcohol'\n",
        "plt.figure(figsize=(8, 6))\n",
        "plt.scatter(df[feature], df['quality'], alpha=0.5, color='teal')\n",
        "plt.title(f'Scatter Plot: {feature} vs. Quality', fontsize=14)\n",
        "plt.xlabel(feature)\n",
        "plt.ylabel('Quality')\n",
        "plt.grid(True)\n",
        "plt.show()\n",
        "\n",
        "# Plot regression line for alcohol vs predicted quality\n",
        "plt.figure(figsize=(8, 6))\n",
        "plt.scatter(X_test[feature], y_test, color='blue', label='Actual', alpha=0.6)\n",
        "plt.scatter(X_test[feature], y_pred, color='red', label='Predicted', alpha=0.6)\n",
        "plt.title('Regression Line (Feature: Alcohol)')\n",
        "plt.xlabel('Alcohol')\n",
        "plt.ylabel('Wine Quality')\n",
        "plt.legend()\n",
        "plt.grid(True)\n",
        "plt.show()\n",
        "\n",
        "# ------------------------------------------------------------\n",
        "# Step 9: Correlation Analysis\n",
        "# ------------------------------------------------------------\n",
        "df.corrwith(df['quality']).plot.bar(\n",
        "    figsize=(10, 6),\n",
        "    title=\"Correlation of Features with Wine Quality\",\n",
        "    fontsize=12,\n",
        "    rot=45,\n",
        "    grid=True,\n",
        "    color='darkred'\n",
        ")\n",
        "plt.show()\n",
        "\n",
        "# ------------------------------------------------------------\n",
        "# End of Experiment 4(b)\n",
        "# ------------------------------------------------------------\n"
      ]
    },
    {
      "cell_type": "code",
      "execution_count": null,
      "metadata": {
        "id": "VCCn6GD5BjTK"
      },
      "outputs": [],
      "source": []
    }
  ],
  "metadata": {
    "colab": {
      "authorship_tag": "ABX9TyPJog2R2h2IK/zSf6cSU+D5",
      "include_colab_link": true,
      "mount_file_id": "1jw-QHl5FFYvn8uaTMdINSidX19s1dRfv",
      "provenance": []
    },
    "kernelspec": {
      "display_name": "Python 3",
      "name": "python3"
    },
    "language_info": {
      "codemirror_mode": {
        "name": "ipython",
        "version": 3
      },
      "file_extension": ".py",
      "mimetype": "text/x-python",
      "name": "python",
      "nbconvert_exporter": "python",
      "pygments_lexer": "ipython3",
      "version": "3.13.5"
    }
  },
  "nbformat": 4,
  "nbformat_minor": 0
}
