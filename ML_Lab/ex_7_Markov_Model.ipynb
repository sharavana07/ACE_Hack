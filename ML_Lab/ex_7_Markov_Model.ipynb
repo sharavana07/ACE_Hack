{
  "nbformat": 4,
  "nbformat_minor": 0,
  "metadata": {
    "colab": {
      "provenance": [],
      "authorship_tag": "ABX9TyM3Yha5KcboZvqJXnrwXLRu",
      "include_colab_link": true
    },
    "kernelspec": {
      "name": "python3",
      "display_name": "Python 3"
    },
    "language_info": {
      "name": "python"
    }
  },
  "cells": [
    {
      "cell_type": "markdown",
      "metadata": {
        "id": "view-in-github",
        "colab_type": "text"
      },
      "source": [
        "<a href=\"https://colab.research.google.com/github/sharavana07/ACE_Hack/blob/main/ex_7_Markov_Model.ipynb\" target=\"_parent\"><img src=\"https://colab.research.google.com/assets/colab-badge.svg\" alt=\"Open In Colab\"/></a>"
      ]
    },
    {
      "cell_type": "code",
      "execution_count": 4,
      "metadata": {
        "colab": {
          "base_uri": "https://localhost:8080/"
        },
        "id": "Px_DZLtfRxjM",
        "outputId": "98697fd5-6566-48a8-cffa-6be9c00e5628"
      },
      "outputs": [
        {
          "output_type": "stream",
          "name": "stdout",
          "text": [
            "Generated Sentence is : the cat sleeps\n"
          ]
        }
      ],
      "source": [
        "import random\n",
        "\n",
        "# Transition probabilities\n",
        "transition_probabilities = {\n",
        "    'the': {'cat': 0.67, 'dog': 0.33},\n",
        "    'cat': {'sits': 0.5, 'sleeps': 0.5},\n",
        "    'dog': {'barks': 1.0}\n",
        "}\n",
        "\n",
        "def next_word(current_word):\n",
        "    if current_word not in transition_probabilities:\n",
        "        return None\n",
        "    next_words = list(transition_probabilities[current_word].keys())\n",
        "    probabilities = list(transition_probabilities[current_word].values())\n",
        "    return random.choices(next_words, probabilities)[0]\n",
        "\n",
        "# Generate text\n",
        "current_word = 'the'\n",
        "sentence = [current_word]\n",
        "\n",
        "for _ in range(4):  # Limit to 5 words for simplicity\n",
        "    current_word = next_word(current_word)\n",
        "    if current_word is None:\n",
        "        break\n",
        "    sentence.append(current_word)\n",
        "\n",
        "generated_sentence = ' '.join(sentence)\n",
        "print(\"Generated Sentence is :\", generated_sentence)\n"
      ]
    },
    {
      "cell_type": "code",
      "source": [],
      "metadata": {
        "id": "aT6r9XigR8Uu"
      },
      "execution_count": 3,
      "outputs": []
    }
  ]
}