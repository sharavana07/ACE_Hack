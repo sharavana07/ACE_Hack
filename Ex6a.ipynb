{
  "nbformat": 4,
  "nbformat_minor": 0,
  "metadata": {
    "colab": {
      "provenance": [],
      "authorship_tag": "ABX9TyPR7J2YTJoVb8QaWGcoo4WX",
      "include_colab_link": true
    },
    "kernelspec": {
      "name": "python3",
      "display_name": "Python 3"
    },
    "language_info": {
      "name": "python"
    }
  },
  "cells": [
    {
      "cell_type": "markdown",
      "metadata": {
        "id": "view-in-github",
        "colab_type": "text"
      },
      "source": [
        "<a href=\"https://colab.research.google.com/github/sharavana07/ACE_Hack/blob/main/Ex6a.ipynb\" target=\"_parent\"><img src=\"https://colab.research.google.com/assets/colab-badge.svg\" alt=\"Open In Colab\"/></a>"
      ]
    },
    {
      "cell_type": "code",
      "execution_count": 1,
      "metadata": {
        "colab": {
          "base_uri": "https://localhost:8080/",
          "height": 541
        },
        "id": "OJvHN5r0Rp7Y",
        "outputId": "0881cccd-3e72-4cbb-e1df-34d99d27baf6"
      },
      "outputs": [
        {
          "output_type": "stream",
          "name": "stdout",
          "text": [
            "📊 Cluster Assignments: [np.int64(0), np.int64(0), np.int64(1), np.int64(1), np.int64(1), np.int64(1), np.int64(1)]\n",
            "📍 Final Centroids:\n",
            " [[1.25 1.5 ]\n",
            " [3.9  5.1 ]]\n"
          ]
        },
        {
          "output_type": "display_data",
          "data": {
            "text/plain": [
              "<Figure size 640x480 with 1 Axes>"
            ],
            "image/png": "[encoded data removed]"
          },
          "metadata": {}
        }
      ],
      "source": [
        "# 🧠 K-MEANS CLUSTERING IMPLEMENTATION\n",
        "import numpy as np\n",
        "import matplotlib.pyplot as plt\n",
        "\n",
        "# Function to calculate Euclidean distance between two points\n",
        "def euclidean_distance(point, centroid):\n",
        "    return np.sqrt(np.sum((point - centroid) ** 2))\n",
        "\n",
        "# Function to assign clusters based on nearest centroid\n",
        "def assign_clusters(data, centroids):\n",
        "    clusters = []\n",
        "    for point in data:\n",
        "        distances = [euclidean_distance(point, centroid) for centroid in centroids]\n",
        "        cluster = np.argmin(distances)\n",
        "        clusters.append(cluster)\n",
        "    return clusters\n",
        "\n",
        "# Function to recalculate centroids\n",
        "def recalculate_centroids(data, clusters, k):\n",
        "    new_centroids = []\n",
        "    for i in range(k):\n",
        "        cluster_points = data[np.array(clusters) == i]\n",
        "        if len(cluster_points) > 0:\n",
        "            new_centroid = np.mean(cluster_points, axis=0)\n",
        "            new_centroids.append(new_centroid)\n",
        "    return np.array(new_centroids)\n",
        "\n",
        "# Function to run the K-Means algorithm\n",
        "def kmeans(data, k, max_iterations=100):\n",
        "    # Randomly initialize centroids by selecting k points from the dataset\n",
        "    np.random.seed(42)  # For reproducibility\n",
        "    initial_centroids_indices = np.random.choice(len(data), k, replace=False)\n",
        "    centroids = data[initial_centroids_indices]\n",
        "\n",
        "    for _ in range(max_iterations):\n",
        "        # Step 1: Assign clusters based on nearest centroid\n",
        "        clusters = assign_clusters(data, centroids)\n",
        "\n",
        "        # Step 2: Recalculate centroids\n",
        "        new_centroids = recalculate_centroids(data, clusters, k)\n",
        "\n",
        "        # Check for convergence (if centroids do not change)\n",
        "        if np.all(new_centroids == centroids):\n",
        "            break\n",
        "\n",
        "        centroids = new_centroids\n",
        "\n",
        "    return clusters, centroids\n",
        "\n",
        "# Example dataset\n",
        "data = np.array([\n",
        "    [1.0, 1.0],\n",
        "    [1.5, 2.0],\n",
        "    [3.0, 4.0],\n",
        "    [5.0, 7.0],\n",
        "    [3.5, 5.0],\n",
        "    [4.5, 5.0],\n",
        "    [3.5, 4.5]\n",
        "])\n",
        "\n",
        "# Number of clusters\n",
        "k = 2\n",
        "\n",
        "# Running K-Means clustering\n",
        "clusters, final_centroids = kmeans(data, k)\n",
        "\n",
        "# Display results\n",
        "print(\"📊 Cluster Assignments:\", clusters)\n",
        "print(\"📍 Final Centroids:\\n\", final_centroids)\n",
        "\n",
        "# Visualization\n",
        "colors = ['r', 'g', 'b', 'y', 'c', 'm']\n",
        "for i in range(len(data)):\n",
        "    plt.scatter(data[i][0], data[i][1], color=colors[clusters[i]], s=50)\n",
        "\n",
        "for centroid in final_centroids:\n",
        "    plt.scatter(centroid[0], centroid[1], marker='x', s=150, c='k')\n",
        "\n",
        "plt.title(\"K-Means Clustering\")\n",
        "plt.xlabel(\"Variable A\")\n",
        "plt.ylabel(\"Variable B\")\n",
        "plt.grid(True)\n",
        "plt.show()\n"
      ]
    }
  ]
}